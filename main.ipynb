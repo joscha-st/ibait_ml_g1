{
 "cells": [
  {
   "cell_type": "code",
   "execution_count": 1,
   "id": "initial_id",
   "metadata": {
    "collapsed": true,
    "ExecuteTime": {
     "end_time": "2023-11-03T11:48:48.542587700Z",
     "start_time": "2023-11-03T11:48:24.070559Z"
    }
   },
   "outputs": [
    {
     "data": {
      "text/plain": "  age;\"job\";\"marital\";\"education\";\"default\";\"housing\";\"loan\";\"contact\";\"month\";\"day_of_week\";\"duration\";\"campaign\";\"pdays\";\"previous\";\"poutcome\";\"emp.var.rate\";\"cons.price.idx\";\"cons.conf.idx\";\"euribor3m\";\"nr.employed\";\"y\"\n0  56;\"housemaid\";\"married\";\"basic.4y\";\"no\";\"no\";...                                                                                                                                                                          \n1  57;\"services\";\"married\";\"high.school\";\"unknown...                                                                                                                                                                          \n2  37;\"services\";\"married\";\"high.school\";\"no\";\"ye...                                                                                                                                                                          \n3  40;\"admin.\";\"married\";\"basic.6y\";\"no\";\"no\";\"no...                                                                                                                                                                          \n4  56;\"services\";\"married\";\"high.school\";\"no\";\"no...                                                                                                                                                                          ",
      "text/html": "<div>\n<style scoped>\n    .dataframe tbody tr th:only-of-type {\n        vertical-align: middle;\n    }\n\n    .dataframe tbody tr th {\n        vertical-align: top;\n    }\n\n    .dataframe thead th {\n        text-align: right;\n    }\n</style>\n<table border=\"1\" class=\"dataframe\">\n  <thead>\n    <tr style=\"text-align: right;\">\n      <th></th>\n      <th>age;\"job\";\"marital\";\"education\";\"default\";\"housing\";\"loan\";\"contact\";\"month\";\"day_of_week\";\"duration\";\"campaign\";\"pdays\";\"previous\";\"poutcome\";\"emp.var.rate\";\"cons.price.idx\";\"cons.conf.idx\";\"euribor3m\";\"nr.employed\";\"y\"</th>\n    </tr>\n  </thead>\n  <tbody>\n    <tr>\n      <th>0</th>\n      <td>56;\"housemaid\";\"married\";\"basic.4y\";\"no\";\"no\";...</td>\n    </tr>\n    <tr>\n      <th>1</th>\n      <td>57;\"services\";\"married\";\"high.school\";\"unknown...</td>\n    </tr>\n    <tr>\n      <th>2</th>\n      <td>37;\"services\";\"married\";\"high.school\";\"no\";\"ye...</td>\n    </tr>\n    <tr>\n      <th>3</th>\n      <td>40;\"admin.\";\"married\";\"basic.6y\";\"no\";\"no\";\"no...</td>\n    </tr>\n    <tr>\n      <th>4</th>\n      <td>56;\"services\";\"married\";\"high.school\";\"no\";\"no...</td>\n    </tr>\n  </tbody>\n</table>\n</div>"
     },
     "execution_count": 1,
     "metadata": {},
     "output_type": "execute_result"
    }
   ],
   "source": [
    "import pandas as pd\n",
    "\n",
    "bank_additional_full = pd.read_csv('Data/bank-additional/bank-additional/bank-additional-full.csv') #all examples 100%\n",
    "\n",
    "bank_additional_full.head()"
   ]
  },
  {
   "cell_type": "code",
   "execution_count": null,
   "outputs": [],
   "source": [],
   "metadata": {
    "collapsed": false
   },
   "id": "d86e34999961b750"
  }
 ],
 "metadata": {
  "kernelspec": {
   "display_name": "Python 3",
   "language": "python",
   "name": "python3"
  },
  "language_info": {
   "codemirror_mode": {
    "name": "ipython",
    "version": 2
   },
   "file_extension": ".py",
   "mimetype": "text/x-python",
   "name": "python",
   "nbconvert_exporter": "python",
   "pygments_lexer": "ipython2",
   "version": "2.7.6"
  }
 },
 "nbformat": 4,
 "nbformat_minor": 5
}
